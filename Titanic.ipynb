{
 "cells": [
  {
   "cell_type": "code",
   "execution_count": 1,
   "metadata": {},
   "outputs": [],
   "source": [
    "import pandas as pd\n",
    "import numpy as np\n",
    "import matplotlib.pyplot as plt\n",
    "import seaborn as sns\n",
    "from sklearn.neighbors import KNeighborsClassifier\n"
   ]
  },
  {
   "cell_type": "code",
   "execution_count": 2,
   "metadata": {},
   "outputs": [],
   "source": [
    "train = pd.read_csv('train.csv')\n",
    "test = pd.read_csv('test.csv')\n",
    "combined = [train, test]"
   ]
  },
  {
   "cell_type": "code",
   "execution_count": 3,
   "metadata": {},
   "outputs": [],
   "source": [
    "#Feature Engineering - Extraction of Title in the name of passenger\n",
    "\n",
    "for dataset in combined:\n",
    "    dataset['Title'] = dataset['Name'].str.extract(' ([a-zA-z]+)\\.', expand=False).str.strip()  #extracts string that ends with period\n",
    "    \n"
   ]
  },
  {
   "cell_type": "code",
   "execution_count": 4,
   "metadata": {},
   "outputs": [],
   "source": [
    "#Name is unnecessary as Title is now in the datasets\n",
    "for dataset in combined:\n",
    "    dataset.drop('Name', axis = 1, inplace=True)"
   ]
  },
  {
   "cell_type": "code",
   "execution_count": 5,
   "metadata": {},
   "outputs": [],
   "source": [
    "#Remove Categorical Features and Useless Variables\n",
    "\n",
    "from sklearn.preprocessing import LabelEncoder\n",
    "lb_make = LabelEncoder()\n",
    "for dataset in combined:\n",
    "    dataset[\"Sex\"] = lb_make.fit_transform(dataset[\"Sex\"])\n",
    "    \n",
    "train = pd.concat([train, pd.get_dummies(train['Title'], prefix = 'Title')], axis=1)\n",
    "test = pd.concat([test, pd.get_dummies(test['Title'], prefix = 'Title')], axis=1)\n",
    "\n",
    "train.drop('Title', axis = 1, inplace=True)\n",
    "test.drop('Title', axis = 1, inplace=True)\n",
    "\n",
    "train.drop('PassengerId', axis = 1, inplace=True)\n",
    "\n",
    "train.drop('Ticket', axis = 1, inplace=True)\n",
    "test.drop('Ticket', axis = 1, inplace=True)\n"
   ]
  },
  {
   "cell_type": "code",
   "execution_count": 6,
   "metadata": {},
   "outputs": [],
   "source": [
    "#Fill in Missing Data\n",
    "from sklearn.impute import SimpleImputer\n",
    "imputer = SimpleImputer(missing_values= np.nan, strategy='mean')\n",
    "imputer = imputer.fit(dataset['Age'].values.reshape(-1, 1))\n",
    "train['Age'] = imputer.transform(train['Age'].values.reshape(-1, 1))\n",
    "imputer = imputer.fit(test['Age'].values.reshape(-1, 1))\n",
    "test['Age'] = imputer.transform(test['Age'].values.reshape(-1, 1))\n",
    "\n",
    "imputer = imputer.fit(train['Fare'].values.reshape(-1, 1))\n",
    "train['Fare'] = imputer.transform(train['Fare'].values.reshape(-1, 1))\n",
    "train['Embarked'].fillna('S', inplace = True)\n",
    "\n",
    "imputer = imputer.fit(test['Fare'].values.reshape(-1, 1))\n",
    "test['Fare'] = imputer.transform(test['Fare'].values.reshape(-1, 1))\n",
    "test['Embarked'].fillna('S', inplace = True)"
   ]
  },
  {
   "cell_type": "code",
   "execution_count": 7,
   "metadata": {},
   "outputs": [],
   "source": [
    "#Cabin Enconding\n",
    "train['Cabin'] = train['Cabin'].str[:1]\n",
    "test['Cabin'] = test['Cabin'].str[:1]\n",
    "train.Cabin.fillna('U', inplace=True)\n",
    "test.Cabin.fillna('U', inplace=True)"
   ]
  },
  {
   "cell_type": "code",
   "execution_count": 8,
   "metadata": {},
   "outputs": [],
   "source": [
    "train = pd.concat([train, pd.get_dummies(train['Cabin'], prefix = 'Cabin')], axis=1)\n",
    "test = pd.concat([test, pd.get_dummies(test['Cabin'], prefix = 'Cabin')], axis=1)\n",
    "train.drop('Cabin', axis = 1, inplace=True)\n",
    "test.drop('Cabin', axis = 1, inplace=True)"
   ]
  },
  {
   "cell_type": "code",
   "execution_count": 9,
   "metadata": {},
   "outputs": [],
   "source": [
    "#Embarked Encoding\n",
    "train = pd.concat([train, pd.get_dummies(train['Embarked'], prefix = 'Embarked')], axis=1)\n",
    "test = pd.concat([test, pd.get_dummies(test['Embarked'], prefix = 'Embarked')], axis=1)\n",
    "train.drop('Embarked', axis = 1, inplace=True)\n",
    "test.drop('Embarked', axis = 1, inplace=True)"
   ]
  },
  {
   "cell_type": "code",
   "execution_count": 10,
   "metadata": {},
   "outputs": [],
   "source": [
    "train[\"FamilySize\"] = train[\"SibSp\"] + train[\"Parch\"] + 1\n",
    "test[\"FamilySize\"] = test[\"SibSp\"] + test[\"Parch\"] + 1"
   ]
  },
  {
   "cell_type": "code",
   "execution_count": 11,
   "metadata": {},
   "outputs": [],
   "source": [
    "#Remove these variables as they have been used to create family size \n",
    "train.drop('SibSp', axis = 1, inplace=True)\n",
    "test.drop('SibSp', axis = 1, inplace=True)\n",
    "train.drop('Parch', axis = 1, inplace=True)\n",
    "test.drop('Parch', axis = 1, inplace=True)\n",
    "\n"
   ]
  },
  {
   "cell_type": "code",
   "execution_count": 12,
   "metadata": {},
   "outputs": [],
   "source": [
    "#Remove Survived, as it is the target\n",
    "train_data = train.drop('Survived', axis=1)\n",
    "target = train['Survived']\n"
   ]
  },
  {
   "cell_type": "code",
   "execution_count": 13,
   "metadata": {},
   "outputs": [],
   "source": [
    "#Remove PassengerID from test data set, must keep this in separate variable so we still have access to PassengerID for submission\n",
    "test_data = test.drop(\"PassengerId\", axis=1)"
   ]
  },
  {
   "cell_type": "code",
   "execution_count": 15,
   "metadata": {},
   "outputs": [],
   "source": [
    "#Remove variables so test_data and train_data have the same number of variables\n",
    "train_data.drop('Title_Capt', axis=1,inplace = True)\n",
    "train_data.drop('Title_Countess', axis=1, inplace = True)\n",
    "train_data.drop('Title_Lady', axis=1, inplace = True)\n",
    "train_data.drop('Title_Jonkheer', axis=1, inplace = True)\n",
    "train_data.drop('Title_Mme', axis=1, inplace = True)\n",
    "train_data.drop('Title_Mlle', axis=1, inplace = True)\n",
    "train_data.drop('Title_Sir', axis=1, inplace = True)\n",
    "train_data.drop('Title_Don', axis=1,inplace = True)\n",
    "train_data.drop('Cabin_T', axis=1,inplace = True)\n"
   ]
  },
  {
   "cell_type": "code",
   "execution_count": 18,
   "metadata": {},
   "outputs": [
    {
     "data": {
      "text/plain": [
       "KNeighborsClassifier(algorithm='auto', leaf_size=30, metric='minkowski',\n",
       "                     metric_params=None, n_jobs=None, n_neighbors=13, p=2,\n",
       "                     weights='uniform')"
      ]
     },
     "execution_count": 18,
     "metadata": {},
     "output_type": "execute_result"
    }
   ],
   "source": [
    "#KNN\n",
    "clf = KNeighborsClassifier(n_neighbors = 13)\n",
    "clf.fit(train_data, target)"
   ]
  },
  {
   "cell_type": "code",
   "execution_count": 19,
   "metadata": {},
   "outputs": [],
   "source": [
    "#Prediction\n",
    "prediction = clf.predict(test_data)"
   ]
  },
  {
   "cell_type": "code",
   "execution_count": 20,
   "metadata": {},
   "outputs": [],
   "source": [
    "submission = pd.DataFrame({\n",
    "        \"PassengerId\": test[\"PassengerId\"],\n",
    "        \"Survived\": prediction })\n",
    "\n",
    "submission.to_csv('predictions.csv', index=False)"
   ]
  },
  {
   "cell_type": "code",
   "execution_count": 21,
   "metadata": {},
   "outputs": [
    {
     "name": "stdout",
     "output_type": "stream",
     "text": [
      "<class 'pandas.core.frame.DataFrame'>\n",
      "RangeIndex: 418 entries, 0 to 417\n",
      "Data columns (total 25 columns):\n",
      "Pclass          418 non-null int64\n",
      "Sex             418 non-null int32\n",
      "Age             418 non-null float64\n",
      "Fare            418 non-null float64\n",
      "Title_Col       418 non-null uint8\n",
      "Title_Dona      418 non-null uint8\n",
      "Title_Dr        418 non-null uint8\n",
      "Title_Master    418 non-null uint8\n",
      "Title_Miss      418 non-null uint8\n",
      "Title_Mr        418 non-null uint8\n",
      "Title_Mrs       418 non-null uint8\n",
      "Title_Ms        418 non-null uint8\n",
      "Title_Rev       418 non-null uint8\n",
      "Cabin_A         418 non-null uint8\n",
      "Cabin_B         418 non-null uint8\n",
      "Cabin_C         418 non-null uint8\n",
      "Cabin_D         418 non-null uint8\n",
      "Cabin_E         418 non-null uint8\n",
      "Cabin_F         418 non-null uint8\n",
      "Cabin_G         418 non-null uint8\n",
      "Cabin_U         418 non-null uint8\n",
      "Embarked_C      418 non-null uint8\n",
      "Embarked_Q      418 non-null uint8\n",
      "Embarked_S      418 non-null uint8\n",
      "FamilySize      418 non-null int64\n",
      "dtypes: float64(2), int32(1), int64(2), uint8(20)\n",
      "memory usage: 22.9 KB\n"
     ]
    }
   ],
   "source": [
    "test_data.info()"
   ]
  },
  {
   "cell_type": "code",
   "execution_count": null,
   "metadata": {},
   "outputs": [],
   "source": []
  }
 ],
 "metadata": {
  "kernelspec": {
   "display_name": "Python 3",
   "language": "python",
   "name": "python3"
  },
  "language_info": {
   "codemirror_mode": {
    "name": "ipython",
    "version": 3
   },
   "file_extension": ".py",
   "mimetype": "text/x-python",
   "name": "python",
   "nbconvert_exporter": "python",
   "pygments_lexer": "ipython3",
   "version": "3.7.3"
  }
 },
 "nbformat": 4,
 "nbformat_minor": 2
}
